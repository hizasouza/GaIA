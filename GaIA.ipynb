{
  "nbformat": 4,
  "nbformat_minor": 0,
  "metadata": {
    "colab": {
      "provenance": [],
      "authorship_tag": "ABX9TyOAkCECu0OBtMAn662hm+GZ",
      "include_colab_link": true
    },
    "kernelspec": {
      "name": "python3",
      "display_name": "Python 3"
    },
    "language_info": {
      "name": "python"
    },
    "widgets": {
      "application/vnd.jupyter.widget-state+json": {
        "6c652a76e08443f1af59ff6d45d702d4": {
          "model_module": "@jupyter-widgets/controls",
          "model_name": "TextModel",
          "model_module_version": "1.5.0",
          "state": {
            "_dom_classes": [],
            "_model_module": "@jupyter-widgets/controls",
            "_model_module_version": "1.5.0",
            "_model_name": "TextModel",
            "_view_count": null,
            "_view_module": "@jupyter-widgets/controls",
            "_view_module_version": "1.5.0",
            "_view_name": "TextView",
            "continuous_update": true,
            "description": "Pergunta:",
            "description_tooltip": null,
            "disabled": false,
            "layout": "IPY_MODEL_b436e5e38e084b928dc90ab377ca3134",
            "placeholder": "Digite sua pergunta aqui",
            "style": "IPY_MODEL_dd5d7d8458634375974c02a7397da490",
            "value": ""
          }
        },
        "b436e5e38e084b928dc90ab377ca3134": {
          "model_module": "@jupyter-widgets/base",
          "model_name": "LayoutModel",
          "model_module_version": "1.2.0",
          "state": {
            "_model_module": "@jupyter-widgets/base",
            "_model_module_version": "1.2.0",
            "_model_name": "LayoutModel",
            "_view_count": null,
            "_view_module": "@jupyter-widgets/base",
            "_view_module_version": "1.2.0",
            "_view_name": "LayoutView",
            "align_content": null,
            "align_items": null,
            "align_self": null,
            "border": null,
            "bottom": null,
            "display": null,
            "flex": null,
            "flex_flow": null,
            "grid_area": null,
            "grid_auto_columns": null,
            "grid_auto_flow": null,
            "grid_auto_rows": null,
            "grid_column": null,
            "grid_gap": null,
            "grid_row": null,
            "grid_template_areas": null,
            "grid_template_columns": null,
            "grid_template_rows": null,
            "height": null,
            "justify_content": null,
            "justify_items": null,
            "left": null,
            "margin": null,
            "max_height": null,
            "max_width": null,
            "min_height": null,
            "min_width": null,
            "object_fit": null,
            "object_position": null,
            "order": null,
            "overflow": null,
            "overflow_x": null,
            "overflow_y": null,
            "padding": null,
            "right": null,
            "top": null,
            "visibility": null,
            "width": null
          }
        },
        "dd5d7d8458634375974c02a7397da490": {
          "model_module": "@jupyter-widgets/controls",
          "model_name": "DescriptionStyleModel",
          "model_module_version": "1.5.0",
          "state": {
            "_model_module": "@jupyter-widgets/controls",
            "_model_module_version": "1.5.0",
            "_model_name": "DescriptionStyleModel",
            "_view_count": null,
            "_view_module": "@jupyter-widgets/base",
            "_view_module_version": "1.2.0",
            "_view_name": "StyleView",
            "description_width": ""
          }
        },
        "75aa6388233c44debc010b0fad7a1ec0": {
          "model_module": "@jupyter-widgets/controls",
          "model_name": "ButtonModel",
          "model_module_version": "1.5.0",
          "state": {
            "_dom_classes": [],
            "_model_module": "@jupyter-widgets/controls",
            "_model_module_version": "1.5.0",
            "_model_name": "ButtonModel",
            "_view_count": null,
            "_view_module": "@jupyter-widgets/controls",
            "_view_module_version": "1.5.0",
            "_view_name": "ButtonView",
            "button_style": "",
            "description": "Enviar",
            "disabled": false,
            "icon": "check",
            "layout": "IPY_MODEL_f34bd47b21bf415086e67221f0a4ab73",
            "style": "IPY_MODEL_ff2b46392e8440c3811d1b73a40185ee",
            "tooltip": "Enviar"
          }
        },
        "f34bd47b21bf415086e67221f0a4ab73": {
          "model_module": "@jupyter-widgets/base",
          "model_name": "LayoutModel",
          "model_module_version": "1.2.0",
          "state": {
            "_model_module": "@jupyter-widgets/base",
            "_model_module_version": "1.2.0",
            "_model_name": "LayoutModel",
            "_view_count": null,
            "_view_module": "@jupyter-widgets/base",
            "_view_module_version": "1.2.0",
            "_view_name": "LayoutView",
            "align_content": null,
            "align_items": null,
            "align_self": null,
            "border": null,
            "bottom": null,
            "display": null,
            "flex": null,
            "flex_flow": null,
            "grid_area": null,
            "grid_auto_columns": null,
            "grid_auto_flow": null,
            "grid_auto_rows": null,
            "grid_column": null,
            "grid_gap": null,
            "grid_row": null,
            "grid_template_areas": null,
            "grid_template_columns": null,
            "grid_template_rows": null,
            "height": null,
            "justify_content": null,
            "justify_items": null,
            "left": null,
            "margin": null,
            "max_height": null,
            "max_width": null,
            "min_height": null,
            "min_width": null,
            "object_fit": null,
            "object_position": null,
            "order": null,
            "overflow": null,
            "overflow_x": null,
            "overflow_y": null,
            "padding": null,
            "right": null,
            "top": null,
            "visibility": null,
            "width": null
          }
        },
        "ff2b46392e8440c3811d1b73a40185ee": {
          "model_module": "@jupyter-widgets/controls",
          "model_name": "ButtonStyleModel",
          "model_module_version": "1.5.0",
          "state": {
            "_model_module": "@jupyter-widgets/controls",
            "_model_module_version": "1.5.0",
            "_model_name": "ButtonStyleModel",
            "_view_count": null,
            "_view_module": "@jupyter-widgets/base",
            "_view_module_version": "1.2.0",
            "_view_name": "StyleView",
            "button_color": null,
            "font_weight": ""
          }
        }
      }
    }
  },
  "cells": [
    {
      "cell_type": "markdown",
      "metadata": {
        "id": "view-in-github",
        "colab_type": "text"
      },
      "source": [
        "<a href=\"https://colab.research.google.com/github/hizasouza/GaIA/blob/main/GaIA.ipynb\" target=\"_parent\"><img src=\"https://colab.research.google.com/assets/colab-badge.svg\" alt=\"Open In Colab\"/></a>"
      ]
    },
    {
      "cell_type": "code",
      "execution_count": 42,
      "metadata": {
        "colab": {
          "base_uri": "https://localhost:8080/"
        },
        "collapsed": true,
        "id": "Z7dqsOMecnwu",
        "outputId": "50d4e30c-03e8-4218-91cc-2c18208ef534"
      },
      "outputs": [
        {
          "output_type": "stream",
          "name": "stdout",
          "text": [
            "Requirement already satisfied: transformers in /usr/local/lib/python3.10/dist-packages (4.40.2)\n",
            "Requirement already satisfied: filelock in /usr/local/lib/python3.10/dist-packages (from transformers) (3.14.0)\n",
            "Requirement already satisfied: huggingface-hub<1.0,>=0.19.3 in /usr/local/lib/python3.10/dist-packages (from transformers) (0.20.3)\n",
            "Requirement already satisfied: numpy>=1.17 in /usr/local/lib/python3.10/dist-packages (from transformers) (1.25.2)\n",
            "Requirement already satisfied: packaging>=20.0 in /usr/local/lib/python3.10/dist-packages (from transformers) (24.0)\n",
            "Requirement already satisfied: pyyaml>=5.1 in /usr/local/lib/python3.10/dist-packages (from transformers) (6.0.1)\n",
            "Requirement already satisfied: regex!=2019.12.17 in /usr/local/lib/python3.10/dist-packages (from transformers) (2023.12.25)\n",
            "Requirement already satisfied: requests in /usr/local/lib/python3.10/dist-packages (from transformers) (2.31.0)\n",
            "Requirement already satisfied: tokenizers<0.20,>=0.19 in /usr/local/lib/python3.10/dist-packages (from transformers) (0.19.1)\n",
            "Requirement already satisfied: safetensors>=0.4.1 in /usr/local/lib/python3.10/dist-packages (from transformers) (0.4.3)\n",
            "Requirement already satisfied: tqdm>=4.27 in /usr/local/lib/python3.10/dist-packages (from transformers) (4.66.4)\n",
            "Requirement already satisfied: fsspec>=2023.5.0 in /usr/local/lib/python3.10/dist-packages (from huggingface-hub<1.0,>=0.19.3->transformers) (2023.6.0)\n",
            "Requirement already satisfied: typing-extensions>=3.7.4.3 in /usr/local/lib/python3.10/dist-packages (from huggingface-hub<1.0,>=0.19.3->transformers) (4.11.0)\n",
            "Requirement already satisfied: charset-normalizer<4,>=2 in /usr/local/lib/python3.10/dist-packages (from requests->transformers) (3.3.2)\n",
            "Requirement already satisfied: idna<4,>=2.5 in /usr/local/lib/python3.10/dist-packages (from requests->transformers) (3.7)\n",
            "Requirement already satisfied: urllib3<3,>=1.21.1 in /usr/local/lib/python3.10/dist-packages (from requests->transformers) (2.0.7)\n",
            "Requirement already satisfied: certifi>=2017.4.17 in /usr/local/lib/python3.10/dist-packages (from requests->transformers) (2024.2.2)\n",
            "Requirement already satisfied: googlesearch-python in /usr/local/lib/python3.10/dist-packages (1.2.4)\n",
            "Requirement already satisfied: beautifulsoup4>=4.9 in /usr/local/lib/python3.10/dist-packages (from googlesearch-python) (4.12.3)\n",
            "Requirement already satisfied: requests>=2.20 in /usr/local/lib/python3.10/dist-packages (from googlesearch-python) (2.31.0)\n",
            "Requirement already satisfied: soupsieve>1.2 in /usr/local/lib/python3.10/dist-packages (from beautifulsoup4>=4.9->googlesearch-python) (2.5)\n",
            "Requirement already satisfied: charset-normalizer<4,>=2 in /usr/local/lib/python3.10/dist-packages (from requests>=2.20->googlesearch-python) (3.3.2)\n",
            "Requirement already satisfied: idna<4,>=2.5 in /usr/local/lib/python3.10/dist-packages (from requests>=2.20->googlesearch-python) (3.7)\n",
            "Requirement already satisfied: urllib3<3,>=1.21.1 in /usr/local/lib/python3.10/dist-packages (from requests>=2.20->googlesearch-python) (2.0.7)\n",
            "Requirement already satisfied: certifi>=2017.4.17 in /usr/local/lib/python3.10/dist-packages (from requests>=2.20->googlesearch-python) (2024.2.2)\n"
          ]
        }
      ],
      "source": [
        "!pip install transformers\n",
        "!pip install googlesearch-python\n"
      ]
    },
    {
      "cell_type": "code",
      "source": [
        "import requests\n",
        "import ipywidgets as widgets\n",
        "from IPython.display import display, clear_output, HTML\n",
        "\n",
        "from google.colab import userdata\n",
        "api_key = userdata.get(\"chave\")\n",
        "GOOGLE_API_KEY = api_key"
      ],
      "metadata": {
        "id": "40xszJb86_hX"
      },
      "execution_count": 44,
      "outputs": []
    },
    {
      "cell_type": "code",
      "source": [
        "from transformers import pipeline, BlenderbotTokenizer, BlenderbotForConditionalGeneration\n",
        "\n",
        "# Modelo de conversação\n",
        "chatbot = pipeline('conversational', model='facebook/blenderbot-400M-distill')\n"
      ],
      "metadata": {
        "collapsed": true,
        "id": "n4b9N-5ucwRn"
      },
      "execution_count": 43,
      "outputs": []
    },
    {
      "cell_type": "code",
      "source": [
        "# Carrega o modelo e o tokenizer\n",
        "model_name = 'facebook/blenderbot-400M-distill'\n",
        "model = BlenderbotForConditionalGeneration.from_pretrained(model_name)\n",
        "tokenizer = BlenderbotTokenizer.from_pretrained(model_name)"
      ],
      "metadata": {
        "id": "SRqhmfSCdXLP"
      },
      "execution_count": 45,
      "outputs": []
    },
    {
      "cell_type": "code",
      "source": [
        "from googlesearch import search\n",
        "\n",
        "def buscar_links(pergunta):\n",
        "    # Realiza uma busca no Google e retorna os primeiros 3 links\n",
        "    resultados = list(search(pergunta, num_results=3))\n",
        "    return resultados\n",
        "\n"
      ],
      "metadata": {
        "id": "FnhBKnAAc5CP"
      },
      "execution_count": 46,
      "outputs": []
    },
    {
      "cell_type": "code",
      "source": [
        "import ipywidgets as widgets\n",
        "from IPython.display import display, clear_output, HTML\n",
        "import requests\n",
        "from bs4 import BeautifulSoup\n",
        "\n",
        "def buscar_links_duckduckgo(query):\n",
        "    url = 'https://duckduckgo.com/html/'\n",
        "    params = {'q': query}\n",
        "    headers = {'User-Agent': 'Mozilla/5.0'}\n",
        "    response = requests.get(url, params=params, headers=headers)\n",
        "    soup = BeautifulSoup(response.text, 'html.parser')\n",
        "    links = [link.get('href') for link in soup.find_all('a', href=True) if 'http' in link.get('href')]\n",
        "    unique_links = list(dict.fromkeys(links))  # Remove duplicatas\n",
        "    return unique_links[:3]  # Retorna apenas os três primeiros links únicos\n",
        "\n",
        "def enviar_pergunta(b):\n",
        "    clear_output(wait=True)  # Limpa a saída anterior para começar uma nova interação\n",
        "    pergunta = texto_pergunta.value\n",
        "    links = buscar_links_duckduckgo(pergunta)\n",
        "    if links:\n",
        "        links_html = \"<br>\".join([f\"<a href='{link}' target='_blank'>{link}</a>\" for link in links])\n",
        "        display(HTML(f\"<b>Excelente pergunta! Aqui estão alguns links que podem auxiliar na sua pesquisa:</b><br>{links_html}\"))\n",
        "    else:\n",
        "        print(\"Nenhum link encontrado para a pergunta.\")\n",
        "\n",
        "    texto_pergunta.value = ''  # Limpa a caixa de texto para a próxima pergunta\n",
        "    display(texto_pergunta, botao_enviar)  # Redisplay os widgets para continuar perguntando\n",
        "\n",
        "texto_pergunta = widgets.Text(\n",
        "    value='',\n",
        "    placeholder='Digite sua pergunta aqui',\n",
        "    description='Pergunta:',\n",
        "    disabled=False\n",
        ")\n",
        "\n",
        "botao_enviar = widgets.Button(\n",
        "    description='Enviar',\n",
        "    disabled=False,\n",
        "    button_style='',  # 'success', 'info', 'warning', 'danger' or ''\n",
        "    tooltip='Enviar',\n",
        "    icon='check'  # FontAwesome icons\n",
        ")\n",
        "\n",
        "botao_enviar.on_click(enviar_pergunta)\n",
        "\n",
        "display(texto_pergunta, botao_enviar)\n"
      ],
      "metadata": {
        "colab": {
          "base_uri": "https://localhost:8080/",
          "height": 151,
          "referenced_widgets": [
            "6c652a76e08443f1af59ff6d45d702d4",
            "b436e5e38e084b928dc90ab377ca3134",
            "dd5d7d8458634375974c02a7397da490",
            "75aa6388233c44debc010b0fad7a1ec0",
            "f34bd47b21bf415086e67221f0a4ab73",
            "ff2b46392e8440c3811d1b73a40185ee"
          ]
        },
        "id": "UZjKfiabc8O3",
        "outputId": "81da31b2-0746-47e2-cf06-e18a7bc81181"
      },
      "execution_count": 47,
      "outputs": [
        {
          "output_type": "display_data",
          "data": {
            "text/plain": [
              "<IPython.core.display.HTML object>"
            ],
            "text/html": [
              "<b>Excelente pergunta! Aqui estão alguns links que podem auxiliar na sua pesquisa:</b><br><a href='//duckduckgo.com/l/?uddg=https%3A%2F%2Fsegredosdomundo.r7.com%2Fquantos%2Doceanos%2Dexistem%2Dno%2Dplaneta%2F&rut=8e1b6efcdb401e94ab435ba0aec09a29ba4b768638ab4b403df429016e9a9fa9' target='_blank'>//duckduckgo.com/l/?uddg=https%3A%2F%2Fsegredosdomundo.r7.com%2Fquantos%2Doceanos%2Dexistem%2Dno%2Dplaneta%2F&rut=8e1b6efcdb401e94ab435ba0aec09a29ba4b768638ab4b403df429016e9a9fa9</a><br><a href='//duckduckgo.com/l/?uddg=https%3A%2F%2Fbrasilescola.uol.com.br%2Fgeografia%2Foceanos.htm&rut=6c0130be3efd12bfea7a83c5b981e9ce78147bf5f02a593011519d46faa4acda' target='_blank'>//duckduckgo.com/l/?uddg=https%3A%2F%2Fbrasilescola.uol.com.br%2Fgeografia%2Foceanos.htm&rut=6c0130be3efd12bfea7a83c5b981e9ce78147bf5f02a593011519d46faa4acda</a><br><a href='//duckduckgo.com/l/?uddg=https%3A%2F%2Fpt.calcuworld.com%2Fquantos%2Fquantos%2Doceanos%2Dexistem%2F&rut=20086e0486bd0b928187be002bf695ba5b4a553c54174bf3131f645b3878609d' target='_blank'>//duckduckgo.com/l/?uddg=https%3A%2F%2Fpt.calcuworld.com%2Fquantos%2Fquantos%2Doceanos%2Dexistem%2F&rut=20086e0486bd0b928187be002bf695ba5b4a553c54174bf3131f645b3878609d</a>"
            ]
          },
          "metadata": {}
        },
        {
          "output_type": "display_data",
          "data": {
            "text/plain": [
              "Text(value='', description='Pergunta:', placeholder='Digite sua pergunta aqui')"
            ],
            "application/vnd.jupyter.widget-view+json": {
              "version_major": 2,
              "version_minor": 0,
              "model_id": "6c652a76e08443f1af59ff6d45d702d4"
            }
          },
          "metadata": {}
        },
        {
          "output_type": "display_data",
          "data": {
            "text/plain": [
              "Button(description='Enviar', icon='check', style=ButtonStyle(), tooltip='Enviar')"
            ],
            "application/vnd.jupyter.widget-view+json": {
              "version_major": 2,
              "version_minor": 0,
              "model_id": "75aa6388233c44debc010b0fad7a1ec0"
            }
          },
          "metadata": {}
        }
      ]
    }
  ]
}